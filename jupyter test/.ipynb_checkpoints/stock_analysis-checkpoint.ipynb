{
 "cells": [
  {
   "cell_type": "code",
   "execution_count": 40,
   "id": "bf428b81",
   "metadata": {
    "scrolled": true
   },
   "outputs": [
    {
     "name": "stdout",
     "output_type": "stream",
     "text": [
      "[*********************100%***********************]  1 of 1 completed\n"
     ]
    }
   ],
   "source": [
    "import yfinance as yf\n",
    "start = '2023-04-01'\n",
    "end = '2023-04-30'\n",
    "df = yf.download('AAPL', start=start, end=end)"
   ]
  },
  {
   "cell_type": "code",
   "execution_count": 26,
   "id": "2677c7dd",
   "metadata": {},
   "outputs": [],
   "source": [
    "from bokeh.plotting import figure, show, output_file"
   ]
  },
  {
   "cell_type": "code",
   "execution_count": 32,
   "id": "0a8dc614",
   "metadata": {},
   "outputs": [],
   "source": [
    "def inc_dec(c, o):\n",
    "    if c > o:\n",
    "        value = 'Increased'\n",
    "    elif c < o:\n",
    "        value = 'Decrease'\n",
    "    else:\n",
    "        value = 'Equal'\n",
    "    return value\n",
    "\n",
    "df['Status'] = [inc_dec(c, o) for c, o in zip(df.Close, df.Open)]"
   ]
  },
  {
   "cell_type": "code",
   "execution_count": 34,
   "id": "2484e2e2",
   "metadata": {},
   "outputs": [],
   "source": [
    "df['Middle'] = (df.Open + df.Close) / 2\n",
    "df['Height'] = abs(df.Close  - df.Open)"
   ]
  },
  {
   "cell_type": "code",
   "execution_count": 38,
   "id": "368fffe9",
   "metadata": {},
   "outputs": [
    {
     "name": "stdout",
     "output_type": "stream",
     "text": [
      "Opening in existing browser session.\n"
     ]
    }
   ],
   "source": [
    "p = figure(x_axis_type = 'datetime', width = 1000, height = 300)\n",
    "p.title = 'Candlestick Chart'\n",
    "\n",
    "hours_12 = 12 * 60 * 60 * 1000\n",
    "\n",
    "p.rect(df.index[df.Status == 'Increase'], df.Middle[df.Status == 'Increase'], \n",
    "       hours_12, df.Height[df.Status == 'Increase'], \n",
    "       fill_color = 'green', line_color = 'black')\n",
    "\n",
    "p.rect(df.index[df.Status == 'Decrease'], df.Middle[df.Status == 'Decrease'], \n",
    "       hours_12, df.Height[df.Status == 'Decrease'], \n",
    "       fill_color = 'red', line_color = 'black')\n",
    "\n",
    "output_file('CS.html')\n",
    "show(p)"
   ]
  }
 ],
 "metadata": {
  "kernelspec": {
   "display_name": "Python 3 (ipykernel)",
   "language": "python",
   "name": "python3"
  },
  "language_info": {
   "codemirror_mode": {
    "name": "ipython",
    "version": 3
   },
   "file_extension": ".py",
   "mimetype": "text/x-python",
   "name": "python",
   "nbconvert_exporter": "python",
   "pygments_lexer": "ipython3",
   "version": "3.10.6"
  }
 },
 "nbformat": 4,
 "nbformat_minor": 5
}
