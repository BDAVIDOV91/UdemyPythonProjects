{
 "cells": [
  {
   "cell_type": "code",
   "execution_count": 42,
   "id": "bf428b81",
   "metadata": {},
   "outputs": [
    {
     "name": "stdout",
     "output_type": "stream",
     "text": [
      "[*********************100%***********************]  1 of 1 completed\n",
      "                  Open        High         Low       Close   Adj Close  \\\n",
      "Date                                                                     \n",
      "2023-04-03  164.270004  166.289993  164.220001  166.169998  166.169998   \n",
      "2023-04-04  166.600006  166.839996  165.110001  165.630005  165.630005   \n",
      "2023-04-05  164.740005  165.050003  161.800003  163.759995  163.759995   \n",
      "2023-04-06  162.429993  164.960007  162.000000  164.660004  164.660004   \n",
      "2023-04-10  161.419998  162.029999  160.080002  162.029999  162.029999   \n",
      "2023-04-11  162.350006  162.360001  160.509995  160.800003  160.800003   \n",
      "2023-04-12  161.220001  162.059998  159.779999  160.100006  160.100006   \n",
      "2023-04-13  161.630005  165.800003  161.419998  165.559998  165.559998   \n",
      "2023-04-14  164.589996  166.320007  163.820007  165.210007  165.210007   \n",
      "2023-04-17  165.089996  165.389999  164.029999  165.229996  165.229996   \n",
      "2023-04-18  166.100006  167.410004  165.649994  166.470001  166.470001   \n",
      "2023-04-19  165.800003  168.160004  165.539993  167.630005  167.630005   \n",
      "2023-04-20  166.089996  167.869995  165.559998  166.649994  166.649994   \n",
      "2023-04-21  165.050003  166.449997  164.490005  165.020004  165.020004   \n",
      "2023-04-24  165.000000  165.600006  163.889999  165.330002  165.330002   \n",
      "2023-04-25  165.190002  166.309998  163.729996  163.770004  163.770004   \n",
      "2023-04-26  163.059998  165.279999  162.800003  163.759995  163.759995   \n",
      "2023-04-27  165.190002  168.559998  165.190002  168.410004  168.410004   \n",
      "2023-04-28  168.490005  169.850006  167.880005  169.679993  169.679993   \n",
      "\n",
      "              Volume  \n",
      "Date                  \n",
      "2023-04-03  56976200  \n",
      "2023-04-04  46278300  \n",
      "2023-04-05  51511700  \n",
      "2023-04-06  45390100  \n",
      "2023-04-10  47716900  \n",
      "2023-04-11  47644200  \n",
      "2023-04-12  50133100  \n",
      "2023-04-13  68445600  \n",
      "2023-04-14  49337200  \n",
      "2023-04-17  41516200  \n",
      "2023-04-18  49923000  \n",
      "2023-04-19  47720200  \n",
      "2023-04-20  52456400  \n",
      "2023-04-21  58311900  \n",
      "2023-04-24  41949600  \n",
      "2023-04-25  48714100  \n",
      "2023-04-26  45498800  \n",
      "2023-04-27  64902300  \n",
      "2023-04-28  55209200  \n"
     ]
    }
   ],
   "source": [
    "import yfinance as yf\n",
    "start = '2023-04-01'\n",
    "end = '2023-04-30'\n",
    "df = yf.download('AAPL', start=start, end=end)\n",
    "print(df)"
   ]
  },
  {
   "cell_type": "code",
   "execution_count": 33,
   "id": "71193855",
   "metadata": {},
   "outputs": [],
   "source": [
    "from pandas_datareader import wb"
   ]
  },
  {
   "cell_type": "code",
   "execution_count": 35,
   "id": "cacce0ba",
   "metadata": {},
   "outputs": [
    {
     "data": {
      "text/html": [
       "<div>\n",
       "<style scoped>\n",
       "    .dataframe tbody tr th:only-of-type {\n",
       "        vertical-align: middle;\n",
       "    }\n",
       "\n",
       "    .dataframe tbody tr th {\n",
       "        vertical-align: top;\n",
       "    }\n",
       "\n",
       "    .dataframe thead th {\n",
       "        text-align: right;\n",
       "    }\n",
       "</style>\n",
       "<table border=\"1\" class=\"dataframe\">\n",
       "  <thead>\n",
       "    <tr style=\"text-align: right;\">\n",
       "      <th></th>\n",
       "      <th>id</th>\n",
       "      <th>name</th>\n",
       "    </tr>\n",
       "  </thead>\n",
       "  <tbody>\n",
       "    <tr>\n",
       "      <th>691</th>\n",
       "      <td>6.0.GDPpc_constant</td>\n",
       "      <td>GDP per capita, PPP (constant 2011 internation...</td>\n",
       "    </tr>\n",
       "    <tr>\n",
       "      <th>10634</th>\n",
       "      <td>NY.GDP.PCAP.KD</td>\n",
       "      <td>GDP per capita (constant 2015 US$)</td>\n",
       "    </tr>\n",
       "    <tr>\n",
       "      <th>10636</th>\n",
       "      <td>NY.GDP.PCAP.KN</td>\n",
       "      <td>GDP per capita (constant LCU)</td>\n",
       "    </tr>\n",
       "    <tr>\n",
       "      <th>10638</th>\n",
       "      <td>NY.GDP.PCAP.PP.KD</td>\n",
       "      <td>GDP per capita, PPP (constant 2017 internation...</td>\n",
       "    </tr>\n",
       "    <tr>\n",
       "      <th>10639</th>\n",
       "      <td>NY.GDP.PCAP.PP.KD.87</td>\n",
       "      <td>GDP per capita, PPP (constant 1987 internation...</td>\n",
       "    </tr>\n",
       "  </tbody>\n",
       "</table>\n",
       "</div>"
      ],
      "text/plain": [
       "                         id                                               name\n",
       "691      6.0.GDPpc_constant  GDP per capita, PPP (constant 2011 internation...\n",
       "10634        NY.GDP.PCAP.KD                 GDP per capita (constant 2015 US$)\n",
       "10636        NY.GDP.PCAP.KN                      GDP per capita (constant LCU)\n",
       "10638     NY.GDP.PCAP.PP.KD  GDP per capita, PPP (constant 2017 internation...\n",
       "10639  NY.GDP.PCAP.PP.KD.87  GDP per capita, PPP (constant 1987 internation..."
      ]
     },
     "execution_count": 35,
     "metadata": {},
     "output_type": "execute_result"
    }
   ],
   "source": [
    "wb.search('gdp.*capita.*const').iloc[:,:2]"
   ]
  },
  {
   "cell_type": "code",
   "execution_count": 38,
   "id": "b24977de",
   "metadata": {},
   "outputs": [
    {
     "name": "stdout",
     "output_type": "stream",
     "text": [
      "                    NY.GDP.PCAP.KD\n",
      "country       year                \n",
      "Canada        2021    43936.308105\n",
      "              2020    42258.691017\n",
      "              2019    45109.244486\n",
      "              2018    44917.483728\n",
      "              2017    44325.488337\n",
      "              2016    43536.913403\n",
      "              2015    43596.135537\n",
      "Mexico        2021     9525.409684\n",
      "              2020     9147.053505\n",
      "              2019    10013.703192\n",
      "              2018    10120.363543\n",
      "              2017     9997.686914\n",
      "              2016     9897.150062\n",
      "              2015     9753.380048\n",
      "United States 2021    61855.518630\n",
      "              2020    58453.446128\n",
      "              2019    60698.011299\n",
      "              2018    59607.393660\n",
      "              2017    58207.578310\n",
      "              2016    57292.538783\n",
      "              2015    56762.729452\n"
     ]
    }
   ],
   "source": [
    "dat = wb.download(indicator = 'NY.GDP.PCAP.KD', country = ['US', 'CA', 'MX'], start = 2015, end = 2023)\n",
    "print(dat)"
   ]
  }
 ],
 "metadata": {
  "kernelspec": {
   "display_name": "Python 3 (ipykernel)",
   "language": "python",
   "name": "python3"
  },
  "language_info": {
   "codemirror_mode": {
    "name": "ipython",
    "version": 3
   },
   "file_extension": ".py",
   "mimetype": "text/x-python",
   "name": "python",
   "nbconvert_exporter": "python",
   "pygments_lexer": "ipython3",
   "version": "3.10.6"
  }
 },
 "nbformat": 4,
 "nbformat_minor": 5
}
