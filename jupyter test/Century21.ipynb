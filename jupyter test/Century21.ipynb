{
 "cells": [
  {
   "cell_type": "code",
   "execution_count": 2,
   "id": "6c01b86f",
   "metadata": {},
   "outputs": [],
   "source": [
    "import requests\n",
    "from bs4 import BeautifulSoup\n",
    "\n",
    "r = requests.get('https://pythonizing.github.io/data/real-estate/rock-springs-wy/LCWYROCKSPRINGS/')\n",
    "c = r.content\n",
    "\n",
    "soup = BeautifulSoup(c, \"html.parser\")\n",
    "\n",
    "all = soup.find_all('div', {'class' : 'propertyRow'})\n",
    "\n",
    "all[0].find('h4', {'class' : 'propPrice'}).text.replace('\\n', '')\n",
    "\n",
    "all[0].find('h4', {'class' : 'propPrice'}).text.replace('\\n', '').replace(' ', '')"
   ]
  }
 ],
 "metadata": {
  "kernelspec": {
   "display_name": "Python 3 (ipykernel)",
   "language": "python",
   "name": "python3"
  },
  "language_info": {
   "codemirror_mode": {
    "name": "ipython",
    "version": 3
   },
   "file_extension": ".py",
   "mimetype": "text/x-python",
   "name": "python",
   "nbconvert_exporter": "python",
   "pygments_lexer": "ipython3",
   "version": "3.10.6"
  }
 },
 "nbformat": 4,
 "nbformat_minor": 5
}
