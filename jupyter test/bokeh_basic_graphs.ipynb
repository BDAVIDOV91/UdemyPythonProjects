{
 "cells": [
  {
   "cell_type": "code",
   "execution_count": 2,
   "id": "f7e4ae02",
   "metadata": {},
   "outputs": [],
   "source": [
    "# Making a basic Bokeh line graph.\n",
    "\n",
    "# Importing bokeh and pandas.\n",
    "from bokeh.plotting import figure\n",
    "from bokeh.io import output_file, show\n",
    "import pandas\n",
    "\n",
    "# Prepare some data.\n",
    "df = pandas.read_csv('data.csv')\n",
    "x = df['x']\n",
    "y = df['y']\n",
    "\n",
    "# Prepare the output file.\n",
    "output_file('Line_from_csv.html')\n",
    "\n",
    "# Create a figure object.\n",
    "f = figure()\n",
    "\n",
    "# Create line plot.\n",
    "f.line(x,y)\n",
    "\n",
    "# Write the plot in the figure object.\n",
    "show(f)"
   ]
  }
 ],
 "metadata": {
  "kernelspec": {
   "display_name": "Python 3 (ipykernel)",
   "language": "python",
   "name": "python3"
  },
  "language_info": {
   "codemirror_mode": {
    "name": "ipython",
    "version": 3
   },
   "file_extension": ".py",
   "mimetype": "text/x-python",
   "name": "python",
   "nbconvert_exporter": "python",
   "pygments_lexer": "ipython3",
   "version": "3.11.0rc1"
  }
 },
 "nbformat": 4,
 "nbformat_minor": 5
}
